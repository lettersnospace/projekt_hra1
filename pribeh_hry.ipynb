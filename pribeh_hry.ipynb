{
  "nbformat": 4,
  "nbformat_minor": 0,
  "metadata": {
    "colab": {
      "provenance": [],
      "toc_visible": true,
      "authorship_tag": "ABX9TyORSBfU6zkfVRwyD4HF1q9Q",
      "include_colab_link": true
    },
    "kernelspec": {
      "name": "python3",
      "display_name": "Python 3"
    },
    "language_info": {
      "name": "python"
    }
  },
  "cells": [
    {
      "cell_type": "markdown",
      "metadata": {
        "id": "view-in-github",
        "colab_type": "text"
      },
      "source": [
        "<a href=\"https://colab.research.google.com/github/lettersnospace/projekt_hra1/blob/main/pribeh_hry.ipynb\" target=\"_parent\"><img src=\"https://colab.research.google.com/assets/colab-badge.svg\" alt=\"Open In Colab\"/></a>"
      ]
    },
    {
      "cell_type": "markdown",
      "source": [
        "# hra\n",
        "príbeh s dvomi možnostmi na konci. Po výberu sa vytvorý ďalší čast príbehu. Vždy je len jeden možnost správna.\n",
        "**Postup**\n",
        "1. Napíš príbeh\n",
        "2."
      ],
      "metadata": {
        "id": "FQiDKFCDAtI_"
      }
    },
    {
      "cell_type": "code",
      "source": [
        "def start():\n",
        "    print(\"Príbeh: Zobudíš sa v temnom lese. Máš dve cesty pred sebou.\")\n",
        "    print(\"1. Ísť po pravej ceste.\")\n",
        "    print(\"2. Ísť po ľavej ceste.\")\n",
        "    choice = input(\"Tvoja voľba (1 alebo 2): \")\n",
        "\n",
        "    if choice == \"1\":\n",
        "        right_path()\n",
        "    elif choice == \"2\":\n",
        "        print(\"Zablúdil si v lese a nikdy ťa už nikto nenašiel. KONIEC.\")\n",
        "    else:\n",
        "        print(\"Neplatná voľba.\")\n",
        "        start()\n",
        "\n",
        "def right_path():\n",
        "    print(\"\\nPríbeh pokračuje: Po pravej ceste prídeš k opustenej chate.\")\n",
        "    print(\"1. Vstúpiť do chaty.\")\n",
        "    print(\"2. Pokračovať po ceste ďalej.\")\n",
        "    choice = input(\"Tvoja voľba (1 alebo 2): \")\n",
        "\n",
        "    if choice == \"1\":\n",
        "        cabin()\n",
        "    elif choice == \"2\":\n",
        "        print(\"Cestu zatarasí medveď. Nemáš kam ísť. KONIEC.\")\n",
        "    else:\n",
        "        print(\"Neplatná voľba.\")\n",
        "        right_path()\n",
        "\n",
        "def cabin():\n",
        "    print(\"\\nVo vnútri chaty nájdeš tajomný kufor.\")\n",
        "    print(\"1. Otvoriť kufor.\")\n",
        "    print(\"2. Nechať ho tak a odísť.\")\n",
        "    choice = input(\"Tvoja voľba (1 alebo 2): \")\n",
        "\n",
        "    if choice == \"1\":\n",
        "        print(\"V kufri nájdeš mapu k pokladu. Si zachránený a bohatý! VÍŤAZSTVO!\")\n",
        "    elif choice == \"2\":\n",
        "        print(\"Bez mapy nikdy nenájdeš cestu z lesa. KONIEC.\")\n",
        "    else:\n",
        "        print(\"Neplatná voľba.\")\n",
        "        cabin()\n",
        "\n",
        "# Spustenie príbehu\n",
        "start()\n"
      ],
      "metadata": {
        "id": "7Tb8pISvB2AB"
      },
      "execution_count": null,
      "outputs": []
    }
  ]
}